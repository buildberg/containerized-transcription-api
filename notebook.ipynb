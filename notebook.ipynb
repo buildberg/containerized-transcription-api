{
 "cells": [
  {
   "cell_type": "markdown",
   "metadata": {},
   "source": [
    "### Method 1"
   ]
  },
  {
   "cell_type": "code",
   "execution_count": 10,
   "metadata": {},
   "outputs": [
    {
     "name": "stderr",
     "output_type": "stream",
     "text": [
      "/workspaces/containerized-transcription-api/.venv/lib/python3.10/site-packages/whisper/transcribe.py:114: UserWarning: FP16 is not supported on CPU; using FP32 instead\n",
      "  warnings.warn(\"FP16 is not supported on CPU; using FP32 instead\")\n"
     ]
    },
    {
     "name": "stdout",
     "output_type": "stream",
     "text": [
      " Thank you for downloading this audio podcast from the vocalised London Beyond Site project. Well hello, I'm John Hall and I'm the Dean of Westminster and I'm standing behind the high altar of Westminster Abbey in the shrine of St. Ebert the Confessor, which for me is the very heart of the Abbey. Edward was the last Anglo-Saxon King of England, renowned for his Christian faith. He reigned from 1042 to 1066 and rebuilt the Abbey with its Abbey Church of St. Peter, beside his new palace of Westminster. It's one of the greatest buildings in the kingdom and must have made a dramatic impact from its position near the river Thames, surrounded only by fields. Edward's remains have been entuned on this site for over 900 years. Edward's Abbey built in the Romanesque style and a little smaller than the building we have today was consecrated on the 28th of December 1065. Perhaps he knew that he was not long for this life, for one week later he was dead. His body was buried in front of the high altar and in 1163 moved to a new shrine following his canonisation. When Henry III rebuilt the Abbey, he added a new chapel to honour St. Edward and in 1269 the body was moved there. However in the 1530s when Henry VIII began dissolving monasteries, Westminster being both the coronation and the burial church of kings became for a time a cathedral, earning on the side of caution the monks dismantled the shrine and buried the confessor's body in a secret place. When Quimera I came to the throne she had the shrine rebuilt and the body was moved back to its present resting place. You enter the Abbey through the great North Door, the old royal entrance at the end of the North trance set by a paved pathway from Parliament Square. To get to the shrine you turn immediately left and start walking along the ambilitary in a clockwise direction, frame on whose unsure of their bearings we have a full-time staff of Beatles, Verges, Marshals and Voltaires who are here to assist with directions and information. The hexagonal chapel or shrine of the confessor is accessed from the high altar by means of a wooden staircase on the north side of the ambilitary. It lies on a raised floor behind the stone sanctuary screen at the east end of the Quarra or nave. It was here beneath the vaulted ceiling of the Abbey that the newlywed Prince William and his bride that you can duchess of Cambridge signed the marriage register in 2011 witnessed only by their close families, family members, and me. The chapel is a quiet place of prayer and pilgrimage as it has been for hundreds of years with pilgrim prayers twice a day conducted at the small altar at the west end of the chapel. The altar stand on its own slab of dark grey marble, adorned with two superb silver candlesticks at each front corner, together with two smaller ones and a crucifix they were given by Queen Elizabeth, the Queen Mother. The frontal cloth of the altar is of a different color, according to the church calendar, where shepherds are invited to write down dedications and prayers on a special card that's available from the stand of remembrance candles in the north side of the nave near the icons of our Lord and the Madonna, and these cards are then placed on the altar and we remember them in our prayers here in the shrine. The three-tiered shrine of the confessor stands on your right hand side as you come in from the high altar. The shrine is built of dark green per-beck marble and stands from east to west 12 feet long, four feet wide, and approximately 14 feet high. A teach-outed corner stands a five-foot high carved wooden candlestick with a tall white candle, all around the chapel head to toe or head to head, are the tombs and effigies of many of England's medieval kings and queens, and several royal children. Early paintings of the 1269 shrine, show us on top of the seven-foot high marble base their lay a golden ferritory, a sarcophagus-like construction containing the saint's coffin and decorated with images of kings and saints. This ferritory was removed during the dissolution but was never reconstructed, so the coffin of St Edward was placed in a hollow in the top part of the stone base, where it remains. The ferritory that we see today was given by Mary I and its dark green with gold leaf detail, resembling a lodger with a smaller one standing on top of it. On both sides of the base of the shrine are arched recesses three on each side, about four feet high. The apexes of the archers are vaulted, and the lower uprights have scalloped edges. Inside these recesses, pilgrims to the shrine sometimes still kneel as they say their prayers. We know this continues a medieval tradition, both from paintings, but also from the way the marble has been smoothed away by centuries of knees pressed down upon it. Etched into the walls all the way around, one can feel a repeated pattern of diamond shapes about four inches square, which are pinkish brown in color, with a small roundel at each corner. Though the per-beck marble base was wholly reassembled, little remained of the carvings and designs that have once decorated it, apart from some rich slabs of purple porphyry, a very hard stone very precious to from Egypt, however one decorated column accidentally embedded upside down in the floor of the shrine at the southwest corner was unearthed. So were able to admire the intricate rectangles, circles and triangles of colored glass and mosaic encrusted in the stone. The trademark design of the great Italian craftsman, the Cosmarsie brothers. The floor of the shrine is also by Cosmati, although currently it's hidden and protected by a carpet. However, a further example of their work was revealed on the occasion of the recent royal wedding. Cosmarsie's magnificent secrarium pavement in front of the high altar is constructed from pieces of stone of different colors and sizes, cut into triangles, squares, circles and rectangles. For me, as dean of Westminster, this is a particularly powerful and evocative place. It's a wonderful privilege to bring people to pray here quietly. Most memory the archipish vocabulary, on more than one occasion, once with the leader of the Orthodox churches, the ecumenical patriarch, and on another, with Pope Benedict XVI. The shrine links us right back to the origins of the Abbey and reminds us of the strong connection between church and state from the 11th century. And it's another great privilege to celebrate the Eucharist here in the presence of the mortal remains of the last of England's monarchs to be recognized as a saint.\n"
     ]
    }
   ],
   "source": [
    "import whisper\n",
    "\n",
    "model = whisper.load_model(\"base\")\n",
    "result = model.transcribe(\"audio.ogg\")\n",
    "print(result[\"text\"])"
   ]
  },
  {
   "cell_type": "markdown",
   "metadata": {},
   "source": [
    "### Method 2"
   ]
  },
  {
   "cell_type": "code",
   "execution_count": 1,
   "metadata": {},
   "outputs": [
    {
     "name": "stderr",
     "output_type": "stream",
     "text": [
      "/workspaces/containerized-transcription-api/.venv/lib/python3.10/site-packages/whisper/timing.py:58: NumbaDeprecationWarning: The 'nopython' keyword argument was not supplied to the 'numba.jit' decorator. The implicit default value for this argument is currently False, but it will be changed to True in Numba 0.59.0. See https://numba.readthedocs.io/en/stable/reference/deprecation.html#deprecation-of-object-mode-fall-back-behaviour-when-using-jit for details.\n",
      "  def backtrace(trace: np.ndarray):\n"
     ]
    }
   ],
   "source": [
    "import whisper\n",
    "model = whisper.load_model(\"base\")"
   ]
  },
  {
   "cell_type": "code",
   "execution_count": 3,
   "metadata": {},
   "outputs": [],
   "source": [
    "audio = whisper.load_audio(\"audio.ogg\")\n",
    "audio = whisper.pad_or_trim(audio)\n",
    "mel = whisper.log_mel_spectrogram(audio).to(model.device)"
   ]
  },
  {
   "cell_type": "code",
   "execution_count": 4,
   "metadata": {},
   "outputs": [],
   "source": [
    "options = whisper.DecodingOptions(fp16 = False)\n",
    "result = whisper.decode(model, mel, options)"
   ]
  },
  {
   "cell_type": "code",
   "execution_count": 8,
   "metadata": {},
   "outputs": [
    {
     "data": {
      "text/plain": [
       "\"Thank you for downloading this audio podcast from the vocalised London Beyond Site project. Well hello, I'm John Hall and I'm the Dean of Westminster and I'm standing behind the high altar of Westminster Abbey in the shrine of St. Ebert the Confessor, which for me is the very heart of the Abbey. Edward was the last Anglo-Saxon King of England, renowned for his Christian faith.\""
      ]
     },
     "execution_count": 8,
     "metadata": {},
     "output_type": "execute_result"
    }
   ],
   "source": [
    "result.text"
   ]
  }
 ],
 "metadata": {
  "kernelspec": {
   "display_name": ".venv",
   "language": "python",
   "name": "python3"
  },
  "language_info": {
   "codemirror_mode": {
    "name": "ipython",
    "version": 3
   },
   "file_extension": ".py",
   "mimetype": "text/x-python",
   "name": "python",
   "nbconvert_exporter": "python",
   "pygments_lexer": "ipython3",
   "version": "3.10.8"
  }
 },
 "nbformat": 4,
 "nbformat_minor": 2
}
